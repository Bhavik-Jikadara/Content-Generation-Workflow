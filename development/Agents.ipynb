{
 "cells": [
  {
   "cell_type": "markdown",
   "metadata": {},
   "source": [
    "### Step 1: Assemble your Agents\n",
    "Embark on your CrewAI journey by setting up your environment and initiating your AI crew with enhanced features. This guide ensures a seamless start, incorporating the latest updates."
   ]
  },
  {
   "cell_type": "code",
   "execution_count": null,
   "metadata": {},
   "outputs": [],
   "source": [
    "from crewai import Agent\n",
    "from crewai_tools import SerperDevTool\n",
    "search_tool = SerperDevTool()"
   ]
  },
  {
   "cell_type": "code",
   "execution_count": 10,
   "metadata": {},
   "outputs": [],
   "source": [
    "from datetime import datetime\n",
    "\n",
    "def save_output(output, filename):    \n",
    "    with open(filename, 'w') as f:  \n",
    "        f.write(output)# Example usage:"
   ]
  },
  {
   "cell_type": "code",
   "execution_count": null,
   "metadata": {},
   "outputs": [],
   "source": [
    "# Creating a senior researcher agent with memory and verbose mode\n",
    "researcher = Agent(\n",
    "    role='Senior Researcher',\n",
    "    goal='Uncover groundbreaking technologies in {topic}',\n",
    "    verbose=True,\n",
    "    memory=True,\n",
    "    backstory=(\n",
    "        \"Driven by curiosity, you're at the forefront of\"\n",
    "        \"innovation, eager to explore and share knowledge that could change\"\n",
    "        \"the world.\"\n",
    "    ),\n",
    "    tools=[search_tool],\n",
    "    allow_delegation=True\n",
    ")"
   ]
  },
  {
   "cell_type": "code",
   "execution_count": null,
   "metadata": {},
   "outputs": [],
   "source": [
    "# Creating a writer agent with custom tools and delegation capability\n",
    "writer = Agent(\n",
    "    role='Writer',\n",
    "    goal='Narrate compelling tech stories about {topic}',\n",
    "    verbose=True,\n",
    "    memory=True,\n",
    "    backstory=(\n",
    "        \"With a flair for simplifying complex topics, you craft\"\n",
    "        \"engaging narratives that captivate and educate, bringing new\"\n",
    "        \"discoveries to light in an accessible manner.\"\n",
    "    ),\n",
    "    tools=[search_tool],\n",
    "    allow_delegation=False\n",
    ")"
   ]
  },
  {
   "cell_type": "markdown",
   "metadata": {},
   "source": [
    "### Step 2: Define the tasks\n",
    "Detail the specific objectives for your agents, including new features for asynchronous execution and output customization. These tasks ensure a targeted approach to their roles."
   ]
  },
  {
   "cell_type": "code",
   "execution_count": null,
   "metadata": {},
   "outputs": [],
   "source": [
    "from crewai import Task"
   ]
  },
  {
   "cell_type": "code",
   "execution_count": null,
   "metadata": {},
   "outputs": [],
   "source": [
    "# Research task\n",
    "research_task = Task(\n",
    "    description=(\n",
    "        \"Identify the next big trend in {topic}.\"\n",
    "        \"Focus on identifying pros and cons and the overall narrative.\"\n",
    "        \"Your final report should clearly articulate the key points\"\n",
    "        \"its market opportunities, and potential risks.\"\n",
    "    ),\n",
    "    expected_output='A comprehensive 3 paragraphs long report on the latest AI trends.',\n",
    "    tools=[search_tool],\n",
    "    agent=researcher,\n",
    ")"
   ]
  },
  {
   "cell_type": "code",
   "execution_count": null,
   "metadata": {},
   "outputs": [],
   "source": [
    "# Writing task with language model configuration\n",
    "write_task = Task(\n",
    "    description=(\n",
    "        \"Compose an insightful article on {topic}.\"\n",
    "        \"Focus on the latest trends and how it's impacting the industry.\"\n",
    "        \"This article should be easy to understand, engaging, and positive.\"\n",
    "    ),\n",
    "    expected_output='A 4 paragraph article on {topic} advancements formatted as markdown.',\n",
    "    tools=[search_tool],\n",
    "    agent=writer,\n",
    "    async_execution=False,\n",
    "    output_file='new-blog-post.md'  # Example of output customization\n",
    ")"
   ]
  },
  {
   "cell_type": "markdown",
   "metadata": {},
   "source": [
    "### Step 3: Form the Crew¶\n",
    "Combine your agents into a crew, setting the workflow process they'll follow to accomplish the tasks, now with the option to configure language models for enhanced interaction."
   ]
  },
  {
   "cell_type": "code",
   "execution_count": null,
   "metadata": {},
   "outputs": [],
   "source": [
    "from crewai import Crew, Process"
   ]
  },
  {
   "cell_type": "code",
   "execution_count": null,
   "metadata": {},
   "outputs": [],
   "source": [
    "# Forming the tech-focused crew with enhanced configurations\n",
    "crew = Crew(\n",
    "    agents=[researcher, writer],\n",
    "    tasks=[research_task, write_task],\n",
    "    process=Process.sequential  # Optional: Sequential task execution is default\n",
    ")"
   ]
  },
  {
   "cell_type": "markdown",
   "metadata": {},
   "source": [
    "# Step 4: Kick It Off\n",
    "Initiate the process with your enhanced crew ready. Observe as your agents collaborate, leveraging their new capabilities for a successful project outcome. You can also pass the inputs that will be interpolated into the agents and tasks."
   ]
  },
  {
   "cell_type": "code",
   "execution_count": null,
   "metadata": {},
   "outputs": [],
   "source": [
    "# Starting the task execution process with enhanced feedback\n",
    "result = crew.kickoff(inputs={'topic': input(\"Enter the topic: \")})\n",
    "print(result)"
   ]
  },
  {
   "cell_type": "markdown",
   "metadata": {},
   "source": [
    "#### Conclusion¶\n",
    "Building and activating a crew in CrewAI has evolved with new functionalities. By incorporating verbose mode, memory capabilities, asynchronous task execution, output customization, and language model configuration, your AI team is more equipped than ever to tackle challenges efficiently. The depth of agent backstories and the precision of their objectives enrich collaboration, leading to successful project outcomes."
   ]
  }
 ],
 "metadata": {
  "kernelspec": {
   "display_name": "venv",
   "language": "python",
   "name": "python3"
  },
  "language_info": {
   "codemirror_mode": {
    "name": "ipython",
    "version": 3
   },
   "file_extension": ".py",
   "mimetype": "text/x-python",
   "name": "python",
   "nbconvert_exporter": "python",
   "pygments_lexer": "ipython3",
   "version": "3.11.8"
  }
 },
 "nbformat": 4,
 "nbformat_minor": 2
}
