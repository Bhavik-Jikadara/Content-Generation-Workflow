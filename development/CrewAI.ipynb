{
 "cells": [
  {
   "cell_type": "code",
   "execution_count": null,
   "metadata": {},
   "outputs": [],
   "source": [
    "from crewai import Agent, Task, Crew, Process\n",
    "from datetime import datetime"
   ]
  },
  {
   "cell_type": "code",
   "execution_count": null,
   "metadata": {},
   "outputs": [],
   "source": [
    "# Setup API key\n",
    "from dotenv import load_dotenv\n",
    "load_dotenv()"
   ]
  },
  {
   "cell_type": "code",
   "execution_count": null,
   "metadata": {},
   "outputs": [],
   "source": [
    "from langchain_openai import ChatOpenAI\n",
    "\n",
    "# Initialize the OpenAI GPT-4 model\n",
    "OpenAIGPT4 = ChatOpenAI(model=\"gpt-4\")"
   ]
  },
  {
   "cell_type": "markdown",
   "metadata": {},
   "source": [
    "### Save markdown file"
   ]
  },
  {
   "cell_type": "code",
   "execution_count": null,
   "metadata": {},
   "outputs": [],
   "source": [
    "def save_markdown_file(task_output):\n",
    "    today_date = datetime.now().strftime(\"%Y-%m-%d\")\n",
    "    filename = f\"{today_date}.md\"\n",
    "    with open(filename, \"w\") as file:\n",
    "        file.write(task_output.result)\n",
    "    print(f\"Newletter saved as {filename}\")"
   ]
  },
  {
   "cell_type": "code",
   "execution_count": null,
   "metadata": {},
   "outputs": [],
   "source": [
    "from crewai_tools import SerperDevTool\n",
    "\n",
    "search_tool = SerperDevTool(name=\"Search the internet\", search_url=\"https://google.serper.dev/search\", n_results=1)"
   ]
  },
  {
   "cell_type": "markdown",
   "metadata": {},
   "source": [
    "### Settings up agents"
   ]
  },
  {
   "cell_type": "code",
   "execution_count": null,
   "metadata": {},
   "outputs": [],
   "source": [
    "class AINewsLetterAgent:\n",
    "    def editor_agent(self):\n",
    "        return Agent(\n",
    "            role='Editor',\n",
    "            goal='Oversee the creation of the AI Newsletter',\n",
    "            backstory=\n",
    "            \"\"\" \n",
    "            With a keen eye for detail and a passion for storytelling,\n",
    "            you ensure that the newsletter\n",
    "            not only informs but also engages and inspires the readers.\n",
    "            \"\"\",\n",
    "            allow_delegation=True,\n",
    "            verbose=True,\n",
    "            max_iter=15\n",
    "        )\n",
    "    \n",
    "    def news_fetcher_agent(self):\n",
    "        return Agent(\n",
    "            role = \"NewsFetcher\",\n",
    "            goal = \"Fetch the top AI news stories for the day\",\n",
    "            backstory=\n",
    "            \"\"\"\n",
    "                As a digital sleuth, you scour the internet for the latest and most impactful developments\n",
    "                in the world of AI, ensuring that our readers are alwaysin the know.\n",
    "            \"\"\",\n",
    "            tools=[search_tool],\n",
    "            verbose = True,\n",
    "            allow_delegation=True\n",
    "        )\n",
    "    \n",
    "    def news_analyzer_agent(self):\n",
    "        return Agent(\n",
    "            role = \"NewsAnalyzer\",\n",
    "            goal = \"Analyze each news story and generate a detailed markdown summary\",\n",
    "            backstory=\"\"\"\n",
    "                With a critical eye and a knack for distilling complex information, you analyses of AI news stories, making them accessible and engagin for our audience.\n",
    "            \"\"\",\n",
    "            tools=[search_tool],\n",
    "            verbose = True,\n",
    "            allow_delegation=True\n",
    "        )\n",
    "    def newsletter_comiler_agent(self):\n",
    "        return Agent(\n",
    "            role = \"NewsletterCompiler\",\n",
    "            goal = \"Compile the analyzed news stories into a final newsletter format\",\n",
    "            backstory=\"\"\"\n",
    "                As a final architect of the newsletter, you meticulously arrange and ensuing a coherent and visually appealing presentations that captivates out reader newsletter format guidelines and maintain consistency throughout.\n",
    "            \"\"\",\n",
    "            tools=[search_tool],\n",
    "            verbose = True,\n",
    "            allow_delegation=True\n",
    "        )"
   ]
  },
  {
   "cell_type": "markdown",
   "metadata": {},
   "source": [
    "### Settings up tasks"
   ]
  },
  {
   "cell_type": "code",
   "execution_count": null,
   "metadata": {},
   "outputs": [],
   "source": [
    "class AINewsletterTask():\n",
    "    def fetch_news_task(self, agent):\n",
    "        return Task(\n",
    "            description=f\"Fetch top AI news stories from the past 24 hours. The current time is {datetime.now()}\",\n",
    "            agent = agent,\n",
    "            async_execution=True,\n",
    "            expected_output=\"\"\"\n",
    "                A list of top AI news story titles, URLs, and a brief summary for each story from the past 24 hours.\n",
    "                Example Output:\n",
    "                [\n",
    "                    {\n",
    "                        'title': 'AI takes spotlight in Super Bowl commercials',\n",
    "                        'url': 'https://example.com/story1',\n",
    "                        'summary': 'AI made a splash in this year\\'s Super Bowl commercials...',\n",
    "                        {{...}}\n",
    "                    } \n",
    "                ]\n",
    "            \"\"\"\n",
    "        )\n",
    "    def analyze_news_task(self, agent, context):\n",
    "        return Task(\n",
    "            description=\"Analyse each news story and ensure there are at least 5 well-formatted articles\",\n",
    "            agent = agent,\n",
    "            async_execution=True,\n",
    "            context= context,\n",
    "            expected_output=\n",
    "            \"\"\"\n",
    "                A markdown-formatted analysis for each news story, including a rundown, and a \"Why it matters\" section. There should be at least 5 articles, each following the proper format.\n",
    "                Examp Output:\n",
    "                '## AI takes spotlight in Super Bowl commercials \\n\\n\n",
    "                **The Rundown:\n",
    "                ** AI made a splash in this year\n",
    "                \\'s Super Bowl Commercials..\\n\\n\n",
    "                **The details:**\\n\\n\n",
    "                - Microsoft\\'s Copilot spot showcased its AI assistant...\\n\\n\n",
    "                **Why it matter:** While AI-related ads have been rampant over the last year, its Super Bowl present\n",
    "            \"\"\",\n",
    "        )\n",
    "    \n",
    "    def compile_newsletter_task(self, agent, context, callback_function):\n",
    "        return Task(\n",
    "            description=\"Compile the newsletter\",\n",
    "            agent=agent,\n",
    "            context=context,\n",
    "            expected_output = \n",
    "            \"\"\"\n",
    "            A complete newsletter in markdown format. with a consistent style and layout.\n",
    "            Example Output:\n",
    "            '# Top stories in AI today:\\\\n\\\\n\n",
    "            - AI takes spotlight in Super Bowl commercials\\\\n\n",
    "            - AItman seeks TRILLIONS for global AI chip initiative\\\\n\\\\n\n",
    "\n",
    "            ## AI takes spotlight in Super Bowl commercials\\\\n\\n\n",
    "            **The Rundown:** AI made a splash in this year\\'s Super Bowl commercials...\\\\n\\\\n\n",
    "            **The details:**...\\\\n\\\\n\n",
    "            **Why it matters::**..\\\\n\\\\n\n",
    "            ## Altman seeks TRILLIONS for global AI chip initiative\\\\n\\\\n\n",
    "            **The Rundown:** OpenAI CEO Altman is reportedly angling to raise TRILLIONS of dollors...\\\\n\\\\n\n",
    "            **The details:**...\\\\n\\\\n\n",
    "            **Why is matters::**...\\\\n\\\\n\n",
    "            \"\"\",\n",
    "            callback=callback_function\n",
    "        )"
   ]
  },
  {
   "cell_type": "markdown",
   "metadata": {},
   "source": [
    "### Settings up tools"
   ]
  },
  {
   "cell_type": "code",
   "execution_count": null,
   "metadata": {},
   "outputs": [],
   "source": [
    "agents = AINewsLetterAgent()\n",
    "tasks = AINewsletterTask()"
   ]
  },
  {
   "cell_type": "code",
   "execution_count": null,
   "metadata": {},
   "outputs": [],
   "source": [
    "# ALL AGENTs\n",
    "editor = agents.editor_agent()\n",
    "news_fetcher = agents.news_fetcher_agent()\n",
    "news_analyzer = agents.news_analyzer_agent()\n",
    "newsletter_compiler = agents.newsletter_comiler_agent()"
   ]
  },
  {
   "cell_type": "code",
   "execution_count": null,
   "metadata": {},
   "outputs": [],
   "source": [
    "# ALL TASKs\n",
    "fetch_news_task = tasks.fetch_news_task(news_fetcher)\n",
    "analyzed_news_task = tasks.analyze_news_task(news_analyzer, [fetch_news_task])\n",
    "compiled_newsletter_task = tasks.compile_newsletter_task(newsletter_compiler, [analyzed_news_task], callback_function=save_markdown_file)"
   ]
  },
  {
   "cell_type": "markdown",
   "metadata": {},
   "source": [
    "### Settings up environment"
   ]
  },
  {
   "cell_type": "code",
   "execution_count": null,
   "metadata": {},
   "outputs": [],
   "source": [
    "crew = Crew(\n",
    "    agents=[editor, news_fetcher, news_analyzer, newsletter_compiler],\n",
    "    tasks=[fetch_news_task, analyzed_news_task, compiled_newsletter_task],\n",
    "    process=Process.hierarchical,\n",
    "    manager_llm=OpenAIGPT4\n",
    ")"
   ]
  },
  {
   "cell_type": "markdown",
   "metadata": {},
   "source": [
    "### Run the crew"
   ]
  },
  {
   "cell_type": "code",
   "execution_count": null,
   "metadata": {},
   "outputs": [],
   "source": [
    "# Kick of the crew\n",
    "results = crew.kickoff()\n",
    "print(\"Crew work results:\")\n",
    "print(results)"
   ]
  }
 ],
 "metadata": {
  "kernelspec": {
   "display_name": "venv",
   "language": "python",
   "name": "python3"
  },
  "language_info": {
   "codemirror_mode": {
    "name": "ipython",
    "version": 3
   },
   "file_extension": ".py",
   "mimetype": "text/x-python",
   "name": "python",
   "nbconvert_exporter": "python",
   "pygments_lexer": "ipython3",
   "version": "3.11.8"
  }
 },
 "nbformat": 4,
 "nbformat_minor": 2
}
