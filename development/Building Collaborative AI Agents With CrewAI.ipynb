{
 "cells": [
  {
   "cell_type": "code",
   "execution_count": null,
   "metadata": {},
   "outputs": [],
   "source": [
    "import os\n",
    "from crewai import Agent, Process\n",
    "from langchain.tools import tool\n",
    "from langchain_google_genai import GoogleGenerativeAI\n",
    "from textwrap import dedent\n",
    "from crewai import Crew, Task\n",
    "import warnings\n",
    "warnings.filterwarnings(\"ignore\")"
   ]
  },
  {
   "cell_type": "code",
   "execution_count": null,
   "metadata": {},
   "outputs": [],
   "source": [
    "# Model\n",
    "llm = GoogleGenerativeAI(model=\"gemini-pro\")"
   ]
  },
  {
   "cell_type": "code",
   "execution_count": null,
   "metadata": {},
   "outputs": [],
   "source": [
    "class FileTools:\n",
    "    @tool(\"Write File with content\")\n",
    "    def write_file(data: str):\n",
    "        \"\"\"Useful to write a file to a given path with a given content. \n",
    "        The input to this tool should be a pipe (|) separated text \n",
    "        of length two, representing the full path of the file, \n",
    "        including the ./lore/, and the written content you want to write to it.\n",
    "        \"\"\"\n",
    "        try:\n",
    "            path, content = data.split(\"|\")\n",
    "            path = path.replace(\"\\n\", \"\").replace(\" \", \"\").replace(\"`\", \"\")\n",
    "            if not path.startswith(\"./lore\"):\n",
    "                path = f\"./lore/{path}\"\n",
    "            with open(path, \"w\") as f:\n",
    "                f.write(content)\n",
    "            return f\"File written to {path}.\"\n",
    "        except Exception:\n",
    "            return \"Error with the input format for the tool.\""
   ]
  },
  {
   "cell_type": "code",
   "execution_count": null,
   "metadata": {},
   "outputs": [],
   "source": [
    "idea_analyst = Agent(\n",
    "    role=\"Idea Analyst\",\n",
    "    goal=\"Comprehensively analyse an idea to prepare blueprints for the article to be written\",\n",
    "    backstory=\"\"\"You are an experienced content analyst, well versed in analyzing \n",
    "    an idea and preparing a blueprint for it.\"\"\",\n",
    "    llm=llm,\n",
    "    verbose=True\n",
    ")\n",
    "writer = Agent(\n",
    "    role=\"Fiction Writer\",\n",
    "    goal=\"Write compelling fantasy and sci-fi fictions from the ideas given by the analyst\",\n",
    "    backstory=\"\"\"A renowned fiction-writer with 2 times NYT \n",
    "    a best-selling author in the fiction and sci-fi category.\"\"\",\n",
    "    llm=llm,\n",
    "    verbose=True\n",
    ")\n",
    "\n",
    "editor = Agent(\n",
    "    role=\"Content Editor\",\n",
    "    goal=\"Edit contents written by writer\",\n",
    "    backstory=\"\"\"You are an experienced  editor with years of \n",
    "    experience in editing books and stories.\"\"\",\n",
    "    llm=llm,\n",
    "    tools=[FileTools.write_file],\n",
    "    verbose=True\n",
    ")"
   ]
  },
  {
   "cell_type": "code",
   "execution_count": null,
   "metadata": {},
   "outputs": [],
   "source": [
    "class CreateTasks:\n",
    "\n",
    "    def expand_idea():\n",
    "        return dedent(\"\"\" Analyse the given task {idea}. Prepare comprehensive pin-points\n",
    "                for accomplishing the given task.\n",
    "                Make sure the ideas are to the point, coherent, and compelling.\n",
    "                Make sure you abide by the rules. Don't use any tools.\n",
    "                \n",
    "                RULES:\n",
    "                - Write ideas in bullet points.\n",
    "                - Avoid adult ideas.\n",
    "            \"\"\")\n",
    "\n",
    "    def write():\n",
    "        return dedent(\"\"\"Write a compelling story in 1200 words based on the blueprint \n",
    "        ideas given by the Idea \n",
    "              analyst.\n",
    "              Make sure the contents are coherent, easily communicable, and captivating.\n",
    "               Don't use any tools.\n",
    "\n",
    "              Make sure you abide by the rules.\n",
    "\n",
    "              RULES:\n",
    "              - Writing must be grammatically correct.\n",
    "              - Use as little jargon as possible\n",
    "\n",
    "              \"\"\")\n",
    "\n",
    "    def edit():\n",
    "        return dedent(\"\"\"\n",
    "    Look for any grammatical mistakes, edit, and format if needed.\n",
    "    Add title and subtitles to the text when needed.\n",
    "    Do not shorten the content or add comments.\n",
    "    Create a suitable filename for the content with the .txt extension.\n",
    "    You MUST use the tool to save it to the path ./lore/(your title.txt).\n",
    "            \"\"\")"
   ]
  },
  {
   "cell_type": "code",
   "execution_count": null,
   "metadata": {},
   "outputs": [],
   "source": [
    "class ContentWritingCrew():\n",
    "    def __init__(self, idea):\n",
    "        self.idea = idea\n",
    "\n",
    "    def __call__(self):\n",
    "        tasks = self._create_tasks()\n",
    "        crew = Crew(\n",
    "            tasks=[tasks],\n",
    "            agents=[idea_analyst, writer, editor],\n",
    "            verbose=True,\n",
    "            process=Process.sequential \n",
    "        )\n",
    "        result = crew.kickoff({\"topic\": self.idea})\n",
    "        return result\n",
    "\n",
    "    def _create_tasks(self):\n",
    "        idea = CreateTasks.expand_idea().format(idea=self.idea)\n",
    "        expand_idea_task = Task(\n",
    "            description=idea,\n",
    "            agent=idea_analyst,\n",
    "            expected_output='A comprehensive 5 paragraphs long report on the latest AI trends.'\n",
    "        )\n",
    "        write_task = Task(\n",
    "            description=CreateTasks.write(),\n",
    "            agent=writer,\n",
    "            expected_output='A 4 paragraph article on {topic} advancements formatted as markdown.',\n",
    "        )\n",
    "        edit_task = Task(\n",
    "            description=CreateTasks.edit(),\n",
    "            agent=editor,\n",
    "            expected_output='A 4 paragraph article on {topic} advancements formatted as markdown.'\n",
    "        )\n",
    "        return [expand_idea_task, write_task, edit_task]"
   ]
  },
  {
   "cell_type": "code",
   "execution_count": null,
   "metadata": {},
   "outputs": [],
   "source": [
    "if __name__ == \"__main__\":\n",
    "    dir = \"./lore\"\n",
    "    if not os.path.exists(dir):\n",
    "        os.mkdir(dir)\n",
    "    idea = input(\"idea: \")\n",
    "    my_crew = ContentWritingCrew(idea=idea)\n",
    "    result = my_crew()\n",
    "    print(dedent(result))"
   ]
  },
  {
   "cell_type": "code",
   "execution_count": null,
   "metadata": {},
   "outputs": [],
   "source": []
  }
 ],
 "metadata": {
  "kernelspec": {
   "display_name": "venv",
   "language": "python",
   "name": "python3"
  },
  "language_info": {
   "codemirror_mode": {
    "name": "ipython",
    "version": 3
   },
   "file_extension": ".py",
   "mimetype": "text/x-python",
   "name": "python",
   "nbconvert_exporter": "python",
   "pygments_lexer": "ipython3",
   "version": "3.11.8"
  }
 },
 "nbformat": 4,
 "nbformat_minor": 2
}
